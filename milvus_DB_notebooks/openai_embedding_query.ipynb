{
 "cells": [
  {
   "cell_type": "code",
   "execution_count": null,
   "metadata": {},
   "outputs": [],
   "source": [
    "import openai\n",
    "openai.api_key=\"\" #insert the openai key here"
   ]
  },
  {
   "cell_type": "code",
   "execution_count": null,
   "metadata": {},
   "outputs": [],
   "source": [
    "#connect to db\n",
    "from pymilvus import connections, Role,db, CollectionSchema, FieldSchema, DataType, Collection\n",
    "_HOST = ''\n",
    "_PORT = '19530' #default port of milvus\n",
    "\n",
    "connections.connect(host=_HOST, port=_PORT, db_name=\"default\")\n",
    "print(db.list_database())"
   ]
  },
  {
   "cell_type": "code",
   "execution_count": null,
   "metadata": {},
   "outputs": [],
   "source": [
    "#Loads the collection from milvus DB\n",
    "from pymilvus import Collection\n",
    "collection = Collection(\"milvus_tr_embed\")      # Get an existing collection.\n",
    "collection.load()"
   ]
  },
  {
   "cell_type": "code",
   "execution_count": null,
   "metadata": {},
   "outputs": [],
   "source": [
    "#Creates the query embeeding\n",
    "query=get_embedding(\"atatürk\")"
   ]
  },
  {
   "cell_type": "code",
   "execution_count": null,
   "metadata": {},
   "outputs": [],
   "source": [
    "search_params = {\n",
    "    \"metric_type\": \"IP\", \n",
    "    \"offset\": 5, \n",
    "    \"ignore_growing\": False, \n",
    "    \"params\": {\"nprobe\": 10}\n",
    "}\n",
    "\n",
    "#take query results\n",
    "results = collection.search(\n",
    "    data=[query], \n",
    "    anns_field=\"emb\", #field in the database to be searched\n",
    "    # the sum of `offset` in `param` and `limit` \n",
    "    # should be less than 16384.\n",
    "    param=search_params,\n",
    "    limit=5,\n",
    "    expr=None,\n",
    "    # set the names of the fields you want to \n",
    "    # retrieve from the search result.\n",
    "    output_fields=[\"text\",\"emb\"],\n",
    "    consistency_level=\"Strong\"\n",
    ")"
   ]
  },
  {
   "cell_type": "code",
   "execution_count": null,
   "metadata": {},
   "outputs": [],
   "source": [
    "#prints the query results\n",
    "data=\"\"\n",
    "processed=results[0]\n",
    "for a in range(len(processed)):\n",
    "    data+=(processed[a].entity.get(\"text\")+\"\\n\")\n",
    "    print(processed[a].distance)\n",
    "print(data)"
   ]
  }
 ],
 "metadata": {
  "language_info": {
   "name": "python"
  },
  "orig_nbformat": 4
 },
 "nbformat": 4,
 "nbformat_minor": 2
}
