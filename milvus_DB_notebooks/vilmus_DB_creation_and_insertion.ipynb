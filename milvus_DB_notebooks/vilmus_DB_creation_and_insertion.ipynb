{
 "cells": [
  {
   "cell_type": "code",
   "execution_count": null,
   "metadata": {},
   "outputs": [],
   "source": [
    "#connect to db\n",
    "from pymilvus import connections, Role,db, CollectionSchema, FieldSchema, DataType, Collection\n",
    "_HOST = '161.97.138.217'\n",
    "_PORT = '19530'\n",
    "\n",
    "connections.connect(host=_HOST, port=_PORT, db_name=\"default\")\n",
    "print(db.list_database())"
   ]
  },
  {
   "cell_type": "code",
   "execution_count": null,
   "metadata": {},
   "outputs": [],
   "source": [
    "#Drop the collection\n",
    "from pymilvus import utility\n",
    "utility.drop_collection(\"milvus_final\")"
   ]
  },
  {
   "cell_type": "code",
   "execution_count": null,
   "metadata": {},
   "outputs": [],
   "source": [
    "#Create the collection\n",
    "from pymilvus import CollectionSchema, FieldSchema, DataType, Collection, utility\n",
    "id = FieldSchema(\n",
    "  name=\"vector_db_id\",\n",
    "  dtype=DataType.INT64,\n",
    "  is_primary=True,\n",
    ")\n",
    "title = FieldSchema(\n",
    "  name=\"title\",\n",
    "  dtype=DataType.VARCHAR,\n",
    "  max_length=300,\n",
    ")\n",
    "text = FieldSchema(\n",
    "  name=\"text\",\n",
    "  dtype=DataType.VARCHAR,\n",
    "  max_length=10000,\n",
    ")\n",
    "url = FieldSchema(\n",
    "  name=\"url\",\n",
    "  dtype=DataType.VARCHAR,\n",
    "  max_length=300,\n",
    ")\n",
    "emb = FieldSchema(\n",
    "  name=\"emb\",\n",
    "  dtype=DataType.FLOAT_VECTOR,\n",
    "  dim=768\n",
    ")\n",
    "schema = CollectionSchema(\n",
    "  fields=[id, title, text, url,emb],\n",
    "  description=\"Test book search\",\n",
    "  enable_dynamic_field=True\n",
    ")\n",
    "collection_name = \"milvus_final\"\n",
    "\n",
    "collection = Collection(\n",
    "    name=collection_name,\n",
    "    schema=schema,\n",
    "    using='default',\n",
    "    shards_num=2\n",
    "    )\n",
    "    \n",
    "index_params = {\n",
    "  \"metric_type\":\"IP\",\n",
    "  \"index_type\":\"IVF_FLAT\",\n",
    "  \"params\":{\"nlist\":1024}\n",
    "}\n",
    "\n",
    "collection.create_index(\n",
    "  field_name=\"emb\", \n",
    "  index_params=index_params\n",
    ")\n",
    "\n",
    "utility.index_building_progress(\"milvus_final\")"
   ]
  },
  {
   "cell_type": "code",
   "execution_count": 3,
   "metadata": {},
   "outputs": [],
   "source": [
    "#Load the database from hugging face\n",
    "from datasets import load_dataset\n",
    "dataset = load_dataset(\"Cohere/wikipedia-22-12-simple-embeddings\")"
   ]
  },
  {
   "cell_type": "code",
   "execution_count": 6,
   "metadata": {},
   "outputs": [
    {
     "name": "stdout",
     "output_type": "stream",
     "text": [
      "485859\n",
      "<class 'list'>\n"
     ]
    }
   ],
   "source": [
    "print(len(dataset[\"train\"]))#dataset size\n",
    "print(type(dataset[\"train\"][\"id\"]))"
   ]
  },
  {
   "cell_type": "code",
   "execution_count": null,
   "metadata": {},
   "outputs": [],
   "source": [
    "#Data insertion part\n",
    "#It inserts the data with parts 1000 entities in each to reduce the lag and fast and contunious insertion\n",
    "import random\n",
    "collection = Collection(\"milvus_final\") # Get an existing collection.\n",
    "\n",
    "data=dataset[\"train\"]\n",
    "ids=data[\"id\"]\n",
    "titles=data[\"title\"]\n",
    "texts=data[\"text\"]\n",
    "urls=data[\"url\"]\n",
    "ran=1000\n",
    "for a in range(0,420000-ran,ran):#I didn't insert all the data because it make the server crash. If you want to insert all uncomment the following line\n",
    "#for a in range(0,len(data)-ran,ran)\n",
    "  embeeding=[]\n",
    "  for i in range(a,a+ran):\n",
    "      d=dataset[\"train\"][i][\"emb\"]\n",
    "      embeeding.append(d)\n",
    "\n",
    "  data = [\n",
    "    ids[a:a+ran],#id\n",
    "    titles[a:a+ran],#title\n",
    "    texts[a:a+ran],#text\n",
    "    urls[a:a+ran],#url\n",
    "    embeeding\n",
    "  ]\n",
    "  mr = collection.insert(data)\n",
    "  print(a,\" \",mr)#prints the index to track the process"
   ]
  }
 ],
 "metadata": {
  "kernelspec": {
   "display_name": "Python 3",
   "language": "python",
   "name": "python3"
  },
  "language_info": {
   "codemirror_mode": {
    "name": "ipython",
    "version": 3
   },
   "file_extension": ".py",
   "mimetype": "text/x-python",
   "name": "python",
   "nbconvert_exporter": "python",
   "pygments_lexer": "ipython3",
   "version": "3.10.12"
  },
  "orig_nbformat": 4
 },
 "nbformat": 4,
 "nbformat_minor": 2
}
