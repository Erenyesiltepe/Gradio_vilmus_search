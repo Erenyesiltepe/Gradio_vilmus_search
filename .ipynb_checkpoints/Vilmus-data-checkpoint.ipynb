{
 "cells": [
  {
   "cell_type": "code",
   "execution_count": 1,
   "id": "43df7992-fb09-4f53-bc34-0ef018051d81",
   "metadata": {},
   "outputs": [],
   "source": [
    "from pymilvus import connections, Role,db, CollectionSchema, FieldSchema, DataType, Collection\n",
    "_HOST = '127.0.0.1'\n",
    "_PORT = '19530'"
   ]
  },
  {
   "cell_type": "code",
   "execution_count": 2,
   "id": "d4e55bd3-d1d9-4a0e-b552-2f7ab3c7b62f",
   "metadata": {},
   "outputs": [],
   "source": [
    "def connect_to_milvus(db_name=\"default\"):\n",
    "    print(f\"connect to milvus\\n\")\n",
    "    connections.connect(host=_HOST, port=_PORT, db_name=db_name)"
   ]
  },
  {
   "cell_type": "code",
   "execution_count": 3,
   "id": "ff1a99db-388c-4f31-85f4-7855aee975eb",
   "metadata": {},
   "outputs": [
    {
     "name": "stdout",
     "output_type": "stream",
     "text": [
      "connect to milvus\n",
      "\n",
      "['default']\n"
     ]
    }
   ],
   "source": [
    "connect_to_milvus()"
   ]
  },
  {
   "cell_type": "code",
   "execution_count": 10,
   "id": "fe1b7282-e8d8-42d5-8d82-774b7bcffb69",
   "metadata": {},
   "outputs": [
    {
     "name": "stdout",
     "output_type": "stream",
     "text": [
      "['default']\n"
     ]
    }
   ],
   "source": [
    "print(db.list_database())"
   ]
  },
  {
   "cell_type": "markdown",
   "id": "ae912fce-8f0f-48bd-9960-e795d3534f51",
   "metadata": {},
   "source": [
    "old database scema"
   ]
  },
  {
   "cell_type": "code",
   "execution_count": 4,
   "id": "a0008fd8-1a7f-44a7-9a08-12276fdfa2cb",
   "metadata": {},
   "outputs": [],
   "source": [
    "book_id = FieldSchema(\n",
    "  name=\"book_id\",\n",
    "  dtype=DataType.INT64,\n",
    "  is_primary=True,\n",
    ")\n",
    "book_name = FieldSchema(\n",
    "  name=\"book_name\",\n",
    "  dtype=DataType.VARCHAR,\n",
    "  max_length=200,\n",
    ")\n",
    "word_count = FieldSchema(\n",
    "  name=\"word_count\",\n",
    "  dtype=DataType.INT64,\n",
    ")\n",
    "book_intro = FieldSchema(\n",
    "  name=\"book_intro\",\n",
    "  dtype=DataType.FLOAT_VECTOR,\n",
    "  dim=2\n",
    ")\n",
    "schema = CollectionSchema(\n",
    "  fields=[book_id, book_name, word_count, book_intro],\n",
    "  description=\"Test book search\",\n",
    "  enable_dynamic_field=True\n",
    ")\n",
    "collection_name = \"book\"\n",
    "\n",
    "collection = Collection(\n",
    "    name=collection_name,\n",
    "    schema=schema,\n",
    "    using='default',\n",
    "    shards_num=2\n",
    "    )"
   ]
  },
  {
   "cell_type": "code",
   "execution_count": 5,
   "id": "7a598fc4-323b-4810-bdcc-68c1fe462804",
   "metadata": {},
   "outputs": [],
   "source": [
    "import random\n",
    "data = [\n",
    "  [i for i in range(200)],\n",
    "  [str(i) for i in range(200)],\n",
    "  [i for i in range(1000, 1200)],\n",
    "  [[random.random() for _ in range(2)] for _ in range(200)]\n",
    "]\n",
    "\n",
    "#data.append([str(\"dy\"*i) for i in range(200)])\n",
    "\n",
    "collection = Collection(\"book\")      # Get an existing collection.\n",
    "mr = collection.insert(data)"
   ]
  },
  {
   "cell_type": "code",
   "execution_count": 9,
   "id": "d3730d1e-8059-4ce1-a19b-3660f2af1ebc",
   "metadata": {},
   "outputs": [],
   "source": [
    "from pymilvus import utility\n",
    "utility.drop_collection(\"book\")"
   ]
  },
  {
   "cell_type": "code",
   "execution_count": null,
   "id": "82df9def-01c5-4a1c-8dee-bfa1574fc65c",
   "metadata": {},
   "outputs": [],
   "source": [
    "id = FieldSchema(\n",
    "  name=\"id\",\n",
    "  dtype=DataType.INT32,\n",
    "  is_primary=True,\n",
    ")\n",
    "title = FieldSchema(\n",
    "  name=\"title\",\n",
    "  dtype=DataType.VARCHAR,\n",
    "  max_length=200,\n",
    ")\n",
    "text = FieldSchema(\n",
    "  name=\"text\",\n",
    "  dtype=DataType.VARCHAR,\n",
    "  max_length=800,\n",
    ")\n",
    "url = FieldSchema(\n",
    "  name=\"url\",\n",
    "  dtype=DataType.VARCHAR,\n",
    "  max_length=200,\n",
    ")\n",
    "wiki_id = FieldSchema(\n",
    "  name=\"wiki_id\",\n",
    "  dtype=DataType.INT32,\n",
    "  is_primary=True,\n",
    ")\n",
    "views = FieldSchema(\n",
    "  name=\"views\",\n",
    "  dtype=DataType.FLOAT,\n",
    "  is_primary=True,\n",
    ")\n",
    "paragraph_id = FieldSchema(\n",
    "  name=\"paragraph_id\",\n",
    "  dtype=DataType.INT32,\n",
    ")\n",
    "langs = FieldSchema(\n",
    "  name=\"langs\",\n",
    "  dtype=DataType.INT32,\n",
    ")\n",
    "emb = FieldSchema(\n",
    "  name=\"emb\",\n",
    "  dtype=DataType.FLOAT_VECTOR,\n",
    "  dim=2\n",
    ")\n",
    "\n",
    "schema = CollectionSchema(\n",
    "  fields=[id,title,text,url,wiki_id,views,paragraph_id,langs,emb],\n",
    "  description=\"Test dataset upload\",\n",
    "  enable_dynamic_field=True\n",
    ")\n",
    "collection_name = \"book\"\n",
    "\n",
    "collection = Collection(\n",
    "    name=collection_name,\n",
    "    schema=schema,\n",
    "    using='default',\n",
    "    shards_num=2\n",
    "    )"
   ]
  }
 ],
 "metadata": {
  "kernelspec": {
   "display_name": "Python 3 (ipykernel)",
   "language": "python",
   "name": "python3"
  },
  "language_info": {
   "codemirror_mode": {
    "name": "ipython",
    "version": 3
   },
   "file_extension": ".py",
   "mimetype": "text/x-python",
   "name": "python",
   "nbconvert_exporter": "python",
   "pygments_lexer": "ipython3",
   "version": "3.10.12"
  }
 },
 "nbformat": 4,
 "nbformat_minor": 5
}
